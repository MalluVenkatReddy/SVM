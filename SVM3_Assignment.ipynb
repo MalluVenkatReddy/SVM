{
 "cells": [
  {
   "cell_type": "code",
   "execution_count": null,
   "id": "43988ebb",
   "metadata": {},
   "outputs": [],
   "source": [
    "Q1. In order to predict house price based on several characteristics, such as location, square footage, \n",
    "number of bedrooms, etc., you are developing an SVM regression model. Which regression metric in this \n",
    "situation would be the best to employ?"
   ]
  },
  {
   "cell_type": "markdown",
   "id": "a67f4959",
   "metadata": {},
   "source": [
    "#### r2_score metric is the best suit for this example"
   ]
  },
  {
   "cell_type": "code",
   "execution_count": null,
   "id": "cadbba11",
   "metadata": {},
   "outputs": [],
   "source": [
    "Q2. You have built an SVM regression model and are trying to decide between using MSE or R-squared as \n",
    "your evaluation metric. Which metric would be more appropriate if your goal is to predict the actual price \n",
    "of a house as accurately as possible?"
   ]
  },
  {
   "cell_type": "markdown",
   "id": "9c1668c5",
   "metadata": {},
   "source": [
    "#### Calculateb r2_score and MSE for both train data (bias) and test data (variance).\n",
    "#### which ever has better trade off between bias and variance, that metric will use.."
   ]
  },
  {
   "cell_type": "code",
   "execution_count": null,
   "id": "fbf4d893",
   "metadata": {},
   "outputs": [],
   "source": [
    "Q3. You have a dataset with a significant number of outliers and are trying to select an appropriate \n",
    "regression metric to use with your SVM model. Which metric would be the most appropriate in this \n",
    "scenario?"
   ]
  },
  {
   "cell_type": "markdown",
   "id": "eafff81a",
   "metadata": {},
   "source": [
    "#### Root Mean Squared Logarithmic Error (RMSLE) is the best metric to use with your SVM Regression model\n",
    "\n",
    "-- since It is not affected by large outliers.\n",
    "\n",
    "-- Outliers are handled properly due to the linearity above delta"
   ]
  },
  {
   "cell_type": "code",
   "execution_count": null,
   "id": "cf6d74c8",
   "metadata": {},
   "outputs": [],
   "source": [
    "Q4. You have built an SVM regression model using a polynomial kernel and are trying to select the best \n",
    "metric to evaluate its performance. You have calculated both MSE and RMSE and found that both values \n",
    "are very close. Which metric should you choose to use in this case?"
   ]
  },
  {
   "cell_type": "markdown",
   "id": "454eec9e",
   "metadata": {},
   "source": [
    "#### both are similar in behavior since RMSE is derived from MSE.\n",
    "\n",
    "-- RMSE units are same order of the features and MSE is higher order than RMSE, better to use RMSE."
   ]
  },
  {
   "cell_type": "code",
   "execution_count": null,
   "id": "00e68710",
   "metadata": {},
   "outputs": [],
   "source": [
    "Q5. You are comparing the performance of different SVM regression models using different kernels (linear, \n",
    "polynomial, and RBF) and are trying to select the best evaluation metric. Which metric would be most \n",
    "appropriate if your goal is to measure how well the model explains the variance in the target variable?"
   ]
  },
  {
   "cell_type": "markdown",
   "id": "bfb407dc",
   "metadata": {},
   "source": [
    "#### accuracy_score is the best metric to compare the performance of different SVM regression models using different kernels (linear, \n",
    "polynomial, and RBF)"
   ]
  }
 ],
 "metadata": {
  "kernelspec": {
   "display_name": "Python 3 (ipykernel)",
   "language": "python",
   "name": "python3"
  },
  "language_info": {
   "codemirror_mode": {
    "name": "ipython",
    "version": 3
   },
   "file_extension": ".py",
   "mimetype": "text/x-python",
   "name": "python",
   "nbconvert_exporter": "python",
   "pygments_lexer": "ipython3",
   "version": "3.9.13"
  }
 },
 "nbformat": 4,
 "nbformat_minor": 5
}
